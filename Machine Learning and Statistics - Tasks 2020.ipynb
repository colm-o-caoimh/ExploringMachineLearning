{
 "cells": [
  {
   "cell_type": "markdown",
   "metadata": {},
   "source": [
    "# Machine Learning and Statistics - Tasks 2020\n",
    "***\n",
    "### Task 1 \n",
    "#### Write a Python function called `sqrt2` that calculates and prints to the screen the square root of 2 to 100 decimal places\n",
    "\n",
    "* This program uses Newton's method (also known as the Newton-Raphson method) to calculate the square root of 2. It is commonly expressed as: \n",
    "<br>\n",
    "\n",
    "$$ z = z - \\frac{z^2 - x}{2z}$$\n",
    "\n",
    "* The task requires that the function prints the result to 100 decimal places without using any modules from the standard library. \n",
    "* Python, however, stores floating point numbers correctly only to around 16 or 17 digits [1]. This is due to space limitations when storing these numbers in binary on the machine. \n",
    "* The square root of 2 is an *irrational number* and so it has an infinite number of decimals. Currently, the is has been computed to at least 10 trillion digits [2]. This exemplifies why floating point numbers in Python cannot have arbitrary precision. \n",
    "* In order to print such an irrational number to 100 decimal places, a different approach is needed. \n",
    "* The correct output could be displayed as a string, which would bypass the need to use a floating point number. Additionally it may be noted that integers in Python have arbitrary precision [3]. A combination of these two approaches may indeed be the route to completing this task to satisfaction.\n",
    "\n",
    "\n",
    "\n"
   ]
  },
  {
   "cell_type": "markdown",
   "metadata": {},
   "source": [
    "<br>"
   ]
  },
  {
   "cell_type": "markdown",
   "metadata": {},
   "source": [
    "<br>\n",
    "\n"
   ]
  },
  {
   "cell_type": "markdown",
   "metadata": {},
   "source": [
    "The function below calculates the square root of two using Newton's method and returns the result. The code here is based on a function found at hackernoon.com [4]"
   ]
  },
  {
   "cell_type": "code",
   "execution_count": 1,
   "metadata": {},
   "outputs": [],
   "source": [
    "def sqrt2():\n",
    "    \n",
    "    \"\"\"\n",
    "    This function calculates the square root of 2 using Newton's method\n",
    "    \"\"\"\n",
    "    \n",
    "    # Let the initial guess r be equal to 2 \n",
    "    r = 2\n",
    "    # The tolerance variable is set to a sufficiently low number for increased accuracy of returned value \n",
    "    tolerance = 10 ** (-10)\n",
    "   \n",
    "    # Loop until we reach desired accuracy\n",
    "    while abs(2 - r * r) > tolerance:\n",
    "        # Newton's method\n",
    "        r = (r + 2 / r) / 2\n",
    "        \n",
    "    return r"
   ]
  },
  {
   "cell_type": "code",
   "execution_count": 2,
   "metadata": {},
   "outputs": [
    {
     "data": {
      "text/plain": [
       "1.4142135623746899"
      ]
     },
     "execution_count": 2,
     "metadata": {},
     "output_type": "execute_result"
    }
   ],
   "source": [
    "# call function\n",
    "sqrt2()"
   ]
  },
  {
   "cell_type": "markdown",
   "metadata": {},
   "source": [
    "<br>\n",
    "\n"
   ]
  },
  {
   "cell_type": "markdown",
   "metadata": {},
   "source": [
    "We see here that the length of the value returned by the function is 18 characters (i.e. 16 decimal places). This is clearly insufficient for the task at hand"
   ]
  },
  {
   "cell_type": "code",
   "execution_count": 3,
   "metadata": {},
   "outputs": [
    {
     "data": {
      "text/plain": [
       "18"
      ]
     },
     "execution_count": 3,
     "metadata": {},
     "output_type": "execute_result"
    }
   ],
   "source": [
    "# print length of value returned\n",
    "sqrt = sqrt2()\n",
    "len(str(sqrt))"
   ]
  },
  {
   "cell_type": "markdown",
   "metadata": {},
   "source": [
    "<br>\n",
    "\n"
   ]
  },
  {
   "cell_type": "markdown",
   "metadata": {},
   "source": [
    "When looking for a solution to this task, I discoverd that the square root of 200, 20,000 and so on contains the same digits as the square root of two. The only change can be seen in the position of the decimal point. Below, I use a general function that outputs the square root of the number passed. I pass 2x10^200, which should yield the desired result. However, this is output in scientific notation and thus still not printing the desired result:"
   ]
  },
  {
   "cell_type": "code",
   "execution_count": 4,
   "metadata": {},
   "outputs": [],
   "source": [
    "def mySqrt(x):\n",
    "\n",
    "    \"\"\"\n",
    "    This function calculates the square root of a number passed as argument\n",
    "    \"\"\"\n",
    "    \n",
    "    r = x\n",
    "    precision = 10 ** (-10)\n",
    "    \n",
    "    while abs(x - r * r) > precision:\n",
    "        r = (r + x / r) / 2\n",
    "        \n",
    "    return r"
   ]
  },
  {
   "cell_type": "code",
   "execution_count": 5,
   "metadata": {},
   "outputs": [],
   "source": [
    "# 2 followed by 200 zeros\n",
    "b = 2*10**200"
   ]
  },
  {
   "cell_type": "code",
   "execution_count": 6,
   "metadata": {},
   "outputs": [
    {
     "name": "stdout",
     "output_type": "stream",
     "text": [
      "1.414213562373095e+100\n"
     ]
    }
   ],
   "source": [
    "# call function with this number\n",
    "y = mySqrt(b)\n",
    "print(y)"
   ]
  },
  {
   "cell_type": "markdown",
   "metadata": {},
   "source": [
    "<br>\n",
    "\n"
   ]
  },
  {
   "cell_type": "markdown",
   "metadata": {},
   "source": [
    "Below, I copy and pasted the square root of 2x10^20 and investigate what possibilites that might offer in arriving at a solution to the task. However, even importing an external library and passing the value of this number squared to the `sqrt()` function, the output is still represented as a floating point number with scientific notation:"
   ]
  },
  {
   "cell_type": "code",
   "execution_count": 7,
   "metadata": {},
   "outputs": [],
   "source": [
    "# the square root of 2*10**20 copy and pasted\n",
    "s = 14142135623730950488016887242096980785696718753769480731766797379907324784621070388503875343276415727350138462309122970249"
   ]
  },
  {
   "cell_type": "code",
   "execution_count": 8,
   "metadata": {},
   "outputs": [
    {
     "data": {
      "text/plain": [
       "199999999999999999999999999999999999999999999999999999999999999999999999999999999999999999999999999999999999999999999999992975302596006355342186646421860807470442275980493427789921836378022112490027674893060932709750538885270244811564139122001"
      ]
     },
     "execution_count": 8,
     "metadata": {},
     "output_type": "execute_result"
    }
   ],
   "source": [
    "s**2"
   ]
  },
  {
   "cell_type": "code",
   "execution_count": 9,
   "metadata": {},
   "outputs": [],
   "source": [
    "a = s**2"
   ]
  },
  {
   "cell_type": "code",
   "execution_count": 10,
   "metadata": {},
   "outputs": [],
   "source": [
    "# Import math module for investigation\n",
    "import math"
   ]
  },
  {
   "cell_type": "code",
   "execution_count": 11,
   "metadata": {},
   "outputs": [
    {
     "data": {
      "text/plain": [
       "1.4142135623730951e+121"
      ]
     },
     "execution_count": 11,
     "metadata": {},
     "output_type": "execute_result"
    }
   ],
   "source": [
    "math.sqrt(a)"
   ]
  },
  {
   "cell_type": "markdown",
   "metadata": {},
   "source": [
    "<br>\n",
    "\n"
   ]
  },
  {
   "cell_type": "markdown",
   "metadata": {},
   "source": [
    "Here I include a few more slightly altered versions of the above but the results remain the same:"
   ]
  },
  {
   "cell_type": "code",
   "execution_count": 12,
   "metadata": {},
   "outputs": [
    {
     "data": {
      "text/plain": [
       "200000000000000000000000000000000000000000000000000000000000000000000000000000000000000000000000000000000000000000000000000000000000000000000000000000000000000000000000000000000000000000000000000000000"
      ]
     },
     "execution_count": 12,
     "metadata": {},
     "output_type": "execute_result"
    }
   ],
   "source": [
    "b"
   ]
  },
  {
   "cell_type": "code",
   "execution_count": 13,
   "metadata": {},
   "outputs": [
    {
     "data": {
      "text/plain": [
       "201"
      ]
     },
     "execution_count": 13,
     "metadata": {},
     "output_type": "execute_result"
    }
   ],
   "source": [
    "len(str(b))"
   ]
  },
  {
   "cell_type": "code",
   "execution_count": 14,
   "metadata": {},
   "outputs": [
    {
     "data": {
      "text/plain": [
       "1.414213562373095e+100"
      ]
     },
     "execution_count": 14,
     "metadata": {},
     "output_type": "execute_result"
    }
   ],
   "source": [
    "math.sqrt(b)"
   ]
  },
  {
   "cell_type": "markdown",
   "metadata": {},
   "source": [
    "<br>\n",
    "\n"
   ]
  },
  {
   "cell_type": "markdown",
   "metadata": {},
   "source": [
    "Speaking with fellow classmates, I found a solution to the problem via a contribution by a user on stackoverflow.com [5]. This is a response to a question posed by a classmate:"
   ]
  },
  {
   "cell_type": "code",
   "execution_count": 15,
   "metadata": {},
   "outputs": [
    {
     "name": "stdout",
     "output_type": "stream",
     "text": [
      "1.4142135623730950488016887242096980785696718753769480731766797379907324784621070388503875343276415727\n"
     ]
    }
   ],
   "source": [
    "x = 2 * 10 ** 200\n",
    "\n",
    "r = x\n",
    "\n",
    "def test_diffs(x, r):\n",
    "    d0 = abs(x - r**2)\n",
    "    dm = abs(x - (r-1)**2)\n",
    "    dp = abs(x - (r+1)**2)\n",
    "    minimised = d0 <= dm and d0 <= dp\n",
    "    below_min = dp < dm\n",
    "    return minimised, below_min\n",
    "\n",
    "while True:\n",
    "    oldr = r\n",
    "    r = (r + x // r) // 2\n",
    "\n",
    "    minimised, below_min = test_diffs(x, r)\n",
    "    if minimised:\n",
    "        break\n",
    "\n",
    "    if r == oldr:\n",
    "        if below_min:\n",
    "            r += 1\n",
    "        else:\n",
    "            r -= 1\n",
    "        minimised, _ = test_diffs(x, r)\n",
    "        if minimised:\n",
    "            break\n",
    "\n",
    "print(f'{r // 10**100}.{r % 10**100:0100d}')\n"
   ]
  },
  {
   "cell_type": "markdown",
   "metadata": {},
   "source": [
    "This does indeed print the square root of 2 to the screen. However, I must be clear that this is not my own work and it will take me some time to reverse engineer the function to fully understand how it works"
   ]
  },
  {
   "cell_type": "markdown",
   "metadata": {},
   "source": [
    "### References\n",
    "\n",
    "[1] luc.edu; Decimals, Floats and Floating Point Arithmetic; http://anh.cs.luc.edu/python/hands-on/3.1/handsonHtml/float.html <br>\n",
    "[2] byjus.net; Square root of 2; https://byjus.com/maths/square-root-of-2/ <br>\n",
    "[3] mortada.net; Can Integer Operations Overflow in Python?; https://mortada.net/can-integer-operations-overflow-in-python.html <br> \n",
    "[4] Regmi, S; Calculating the Square Root of a Number using the  Newton-Raphson Method (A How To Guide); https://hackernoon.com/calculating-the-square-root-of-a-number-using-the-newton-raphson-method-a-how-to-guide-yr4e32zo <br>\n",
    "[5] stackoverflow.com; https://stackoverflow.com/questions/64278117/is-there-a-way-to-create-more-decimal-points-on-python-without-importing-a-libra <br>\n"
   ]
  },
  {
   "cell_type": "markdown",
   "metadata": {},
   "source": [
    "<br>\n",
    "\n"
   ]
  },
  {
   "cell_type": "markdown",
   "metadata": {},
   "source": [
    "#### End task 1"
   ]
  },
  {
   "cell_type": "markdown",
   "metadata": {},
   "source": [
    "<br>\n",
    "\n",
    "***\n"
   ]
  },
  {
   "cell_type": "markdown",
   "metadata": {},
   "source": [
    "### Task 2 - Chi-squared test\n",
    "#### This task uses `scipy.stats` to verify a known Chi-squared value of 24.6 based on the table below. It also calculates the p-value. The table is taken from the Wikipedia article on the Chi-squared test [1].\n",
    "\n",
    "| \t        | A | B | C | D | total|\n",
    ":-----------|:---:|:---:|:---:|:---:|:------:|\n",
    "White collar| 90| 60|104| 95|349   |\n",
    "Blue collar | 30| 50| 51| 20|151   |\n",
    "No collar   | 30| 40| 45| 35|150   |\n",
    "**Total**       |**150**|**150**|**200**|**150**|**650**   |\n",
    "\n",
    "\n",
    "#### The Chi-squared formula below is integrated into the `chi2_contingency()` function used for the task:\n",
    "\n",
    "\n",
    "$$ \\chi^2 = \\Sigma \\frac{(O_i - E_i)^2}{E_i} $$\n",
    "\n",
    "\n",
    "\n",
    "* Each column A, B, C and D represents a neighbourhood in a city with a population of 1,000,000. A random sample of 650 is taken and their occupation recorded as either White Collar, Blue Collar or No Collar.\n",
    "* The null hypothesis is that each person's occupation classification is independent of the neighbourhood they live in\n",
    "* Using the `chi2_contingency()` function, the Chi-squared value of 24.5712 is calculated. This verifies the the value provided by Wikipedia.\n",
    "* The p-value is approximately 0.0004. Since this is less than the conventionally accepted significance level of 0.05 [2] we reject the null hypothesis: \"For a Chi-square test, a p-value that is less than or equal to your significance level indicates there is sufficient evidence to conclude that the observed distribution is not the same as the expected distribution.\" [3]\n",
    "* We can therefore accept the alternative hypothesis - that there *is* a relationship between occupation and neighbourhood in the city\n",
    "\n",
    "\n",
    "\n",
    "\n",
    "\n"
   ]
  },
  {
   "cell_type": "markdown",
   "metadata": {},
   "source": [
    "<br>\n",
    "\n"
   ]
  },
  {
   "cell_type": "code",
   "execution_count": 16,
   "metadata": {},
   "outputs": [],
   "source": [
    "# Import chi2_contingency function from the scipy.stats module\n",
    "from scipy.stats import chi2_contingency\n",
    "# Import numpy to generate array representing table values\n",
    "import numpy as np"
   ]
  },
  {
   "cell_type": "code",
   "execution_count": 17,
   "metadata": {},
   "outputs": [],
   "source": [
    "# Assign 3x4 array of observed values to variable obs\n",
    "obs = np.array([[90, 60, 104, 95], [30, 50, 51, 20], [30, 40, 45, 35]])"
   ]
  },
  {
   "cell_type": "code",
   "execution_count": 18,
   "metadata": {},
   "outputs": [],
   "source": [
    "# Use chi2_contingency function to generate Chi-squared value, p-value, \n",
    "# degrees of freedom and array of expected frequencies\n",
    "chi2, p, dof, ex = chi2_contingency(obs, correction=False)"
   ]
  },
  {
   "cell_type": "code",
   "execution_count": 19,
   "metadata": {},
   "outputs": [
    {
     "data": {
      "text/plain": [
       "0.0004098425861096696"
      ]
     },
     "execution_count": 19,
     "metadata": {},
     "output_type": "execute_result"
    }
   ],
   "source": [
    "# p-value\n",
    "p"
   ]
  },
  {
   "cell_type": "code",
   "execution_count": 20,
   "metadata": {},
   "outputs": [
    {
     "data": {
      "text/plain": [
       "24.5712028585826"
      ]
     },
     "execution_count": 20,
     "metadata": {},
     "output_type": "execute_result"
    }
   ],
   "source": [
    "# Chi-squared value\n",
    "chi2"
   ]
  },
  {
   "cell_type": "code",
   "execution_count": 21,
   "metadata": {},
   "outputs": [
    {
     "data": {
      "text/plain": [
       "6"
      ]
     },
     "execution_count": 21,
     "metadata": {},
     "output_type": "execute_result"
    }
   ],
   "source": [
    "# Degrees of freedom\n",
    "dof"
   ]
  },
  {
   "cell_type": "code",
   "execution_count": 22,
   "metadata": {},
   "outputs": [
    {
     "data": {
      "text/plain": [
       "array([[ 80.53846154,  80.53846154, 107.38461538,  80.53846154],\n",
       "       [ 34.84615385,  34.84615385,  46.46153846,  34.84615385],\n",
       "       [ 34.61538462,  34.61538462,  46.15384615,  34.61538462]])"
      ]
     },
     "execution_count": 22,
     "metadata": {},
     "output_type": "execute_result"
    }
   ],
   "source": [
    "# Array of expected value\n",
    "ex"
   ]
  },
  {
   "cell_type": "markdown",
   "metadata": {},
   "source": [
    "<br>\n",
    "\n"
   ]
  },
  {
   "cell_type": "markdown",
   "metadata": {},
   "source": [
    "### References\n",
    "[1] Wikipedia; Chi-squared test; https://en.wikipedia.org/wiki/Chi-squared_test <br>\n",
    "[2] Eck, David and Ryan, Jim; The Chi Square Statistic; https://math.hws.edu/javamath/ryan/ChiSquare.html <br>\n",
    "[3] Frost, Jim; Chi-Square Test of Independence and an Example; https://statisticsbyjim.com/hypothesis-testing/chi-square-test-independence-example/ "
   ]
  },
  {
   "cell_type": "markdown",
   "metadata": {},
   "source": [
    "<br>\n",
    "\n",
    "#### End task 2"
   ]
  },
  {
   "cell_type": "markdown",
   "metadata": {},
   "source": [
    "<br>\n",
    "\n"
   ]
  },
  {
   "cell_type": "markdown",
   "metadata": {},
   "source": [
    "### Task 3 - Standard Deviation\n",
    "***\n",
    "\n",
    "#### Research the Microsoft Excel functions `STDEV.S` and `STDEV.P`, writing a note about the difference between them. Then use numpy to perform a simulation demonstrating that  the`STDEV.S` calculation is a better estimate than `STDEV.P` for the standard deviation of a population when performed on a sample."
   ]
  },
  {
   "cell_type": "markdown",
   "metadata": {},
   "source": [
    "<br>\n",
    "\n",
    "### STDEV.S vs STDEV.P\n",
    "\n",
    "\n",
    "* Both `STDEV.S` and `STDEV.P`, calculate the standard deviation of an array of numbers. The difference between them is better understood when we examine what lies in the nature of what these numbers (or data) represent. \n",
    "* If the data represents a *population*, `STDEV.P` is used, commonly expressed as: \n",
    "<br>\n",
    "\n",
    "$$\\sigma = \\sqrt{\\frac{\\Sigma(x_i - \\mu)}{n}} $$\n",
    "\n",
    "\n",
    "while `STDEV.S` is used on a *sample* of the population [1]:\n",
    "<br>\n",
    "\n",
    "$$s = \\sqrt{\\frac{\\Sigma(x_i - \\mu)}{n - 1}} $$\n",
    "\n",
    "* The use of $n - 1$ in the formula is known as *Bessel's correction* [2].\n",
    "* It is important to make a distinction between the *calculation* and the *estimation* of the population standard deviation. If we don't have the population data to work with, we can only estimate the population standard deviation and it is the formula for `STDEV.S` we use in this case. Becuase we rarely have all available to data to calculate the population mean we will almost always need to estimate it [3].\n",
    "* The smaller the sample size, the less accurate the calculation for population standard deviation i.e. `STDEV.P`.\n",
    "* I came across 2 YouTube tutorials produced by North Carolina State University which were very informative with regard to the explanation of the difference between both formulas [4], [5].\n",
    "\n",
    "\n",
    "### Simulation\n",
    "\n",
    "\n",
    "* In the function below, I generate a random sample drawn from the normal distribution, with mean=20 ($\\mu$) and std=10 ($\\sigma$). This will represent the population for the task.\n",
    "* Then, I draw a random sample from the population using `random.choice`. When calling the function, the size of this sample is passed as an argument.\n",
    "* Then, I estimate the standard deviation of the population using both `STDEV.S` and `STDEV.P` on the sample.\n",
    "* I calculate the dfference between both `STDEV.S` and `STDEV.P`, and the population standard deviation.\n",
    "* If the `STDEV.S` standard deviation is closer to the population, it is added to the appropriate list. And vice-versa for the `STDEV.P` value.\n",
    "* This process is repeated 10,000 times and two lists are returned. \n",
    "* One contains the values representing the number of times the `STDEV.S` was more accurate, and the other for when `STDEV.P` was more accurate.\n",
    "* Whichever list has a greater number of elements, represents the more accurate formula - `STDEV.S` vs `STDEV.P`\n",
    "\n",
    "\n",
    "\n",
    "##### Note: This algorithm is my own work. I attempted to prove the theory set out in the task brief using my own understanding of the question as a guide\n",
    "\n",
    "<br>"
   ]
  },
  {
   "cell_type": "markdown",
   "metadata": {},
   "source": [
    "<br>\n",
    "\n"
   ]
  },
  {
   "cell_type": "code",
   "execution_count": 23,
   "metadata": {},
   "outputs": [],
   "source": [
    "# import numpy to perform simulation\n",
    "import numpy as np\n"
   ]
  },
  {
   "cell_type": "code",
   "execution_count": 24,
   "metadata": {},
   "outputs": [],
   "source": [
    "# Construct a new generator object\n",
    "rng = np.random.default_rng()"
   ]
  },
  {
   "cell_type": "code",
   "execution_count": 25,
   "metadata": {},
   "outputs": [],
   "source": [
    "def stdev(sample_size):\n",
    "    \n",
    "    \"\"\"\n",
    "    this function calculates the std of a random sample using two different formulas:\n",
    "    STDEV.P and STDEV.S. On each iteration of the for loop it determines which calculation is \n",
    "    closer to the population std and stores this result in the appropriate list.\n",
    "    \"\"\"\n",
    "    \n",
    "    # This list will contain values which demonstrate that STDEV.P was closer to population std\n",
    "    stdpop_list = []\n",
    "    \n",
    "    # This list will contain values which demonstrate that STDEV.S was closer to population std\n",
    "    stdsamp_list = []\n",
    "    \n",
    "    # Population mean\n",
    "    mu = 20 \n",
    "    \n",
    "    # Population standard deviation\n",
    "    sigma = 10 \n",
    "\n",
    "    \n",
    "    for i in range(10000):\n",
    "        # Generate 10,000 random numbers normally distributed\n",
    "        population = np.random.default_rng().normal(mu, sigma, 10000)\n",
    "        \n",
    "        # Generate a radom sample from the population\n",
    "        sample = np.random.choice(population, sample_size)\n",
    "        \n",
    "        #Apply both std formulas to the sample\n",
    "        std_pop = np.sqrt(np.sum((sample - np.mean(sample))**2)/len(sample))\n",
    "        std_samp = np.sqrt(np.sum((sample - np.mean(sample))**2)/(len(sample) -1))\n",
    "        \n",
    "        # Calculate the standard deviation of the population\n",
    "        sigma2 = np.std(population)\n",
    "        \n",
    "        # Calculate the difference between the population std and the sample std as calculated by both formulas\n",
    "        diff_pop = abs(sigma2 - std_pop)\n",
    "        diff_samp = abs(sigma2 - std_samp)\n",
    "        \n",
    "        # When the standard deviation calculated using STDEV.P is closer to the population mean than the\n",
    "        # standard deviation calculated by STDEV.S, add the value to the stdpop_list\n",
    "        if diff_pop < diff_samp:\n",
    "            stdpop_list.append(diff_pop)\n",
    "\n",
    "        # Otherwise, add the standard deviation calculated by STDEV.S\n",
    "        else:\n",
    "            stdsamp_list.append(\"false\")\n",
    "    \n",
    "    # Return each list\n",
    "    return stdpop_list, stdsamp_list"
   ]
  },
  {
   "cell_type": "markdown",
   "metadata": {},
   "source": [
    "<br>\n",
    "\n"
   ]
  },
  {
   "cell_type": "markdown",
   "metadata": {},
   "source": [
    "Below, I call the function 4 times, each time passing an increasingly large sample size. We see that up to size=5000 (half the population size), the `STDEV.S` is more accurate, with the difference in accuracy becoming less acute the closer we get to the population size of 10,000. This is clearly visible on the bar chart below:"
   ]
  },
  {
   "cell_type": "code",
   "execution_count": 26,
   "metadata": {},
   "outputs": [],
   "source": [
    "stdpop, stdsamp = stdev(5)"
   ]
  },
  {
   "cell_type": "code",
   "execution_count": 27,
   "metadata": {},
   "outputs": [
    {
     "data": {
      "text/plain": [
       "3365"
      ]
     },
     "execution_count": 27,
     "metadata": {},
     "output_type": "execute_result"
    }
   ],
   "source": [
    "len(stdpop)"
   ]
  },
  {
   "cell_type": "code",
   "execution_count": 28,
   "metadata": {},
   "outputs": [
    {
     "data": {
      "text/plain": [
       "6635"
      ]
     },
     "execution_count": 28,
     "metadata": {},
     "output_type": "execute_result"
    }
   ],
   "source": [
    "len(stdsamp)"
   ]
  },
  {
   "cell_type": "code",
   "execution_count": 29,
   "metadata": {},
   "outputs": [],
   "source": [
    "stdpop2, stdsamp2 = stdev(50)"
   ]
  },
  {
   "cell_type": "code",
   "execution_count": 30,
   "metadata": {},
   "outputs": [
    {
     "data": {
      "text/plain": [
       "4583"
      ]
     },
     "execution_count": 30,
     "metadata": {},
     "output_type": "execute_result"
    }
   ],
   "source": [
    "len(stdpop2)"
   ]
  },
  {
   "cell_type": "code",
   "execution_count": 31,
   "metadata": {},
   "outputs": [
    {
     "data": {
      "text/plain": [
       "5417"
      ]
     },
     "execution_count": 31,
     "metadata": {},
     "output_type": "execute_result"
    }
   ],
   "source": [
    "len(stdsamp2)"
   ]
  },
  {
   "cell_type": "code",
   "execution_count": 32,
   "metadata": {},
   "outputs": [],
   "source": [
    "stdpop3, stdsamp3 = stdev(500)"
   ]
  },
  {
   "cell_type": "code",
   "execution_count": 33,
   "metadata": {},
   "outputs": [
    {
     "data": {
      "text/plain": [
       "4857"
      ]
     },
     "execution_count": 33,
     "metadata": {},
     "output_type": "execute_result"
    }
   ],
   "source": [
    "len(stdpop3)"
   ]
  },
  {
   "cell_type": "code",
   "execution_count": 34,
   "metadata": {},
   "outputs": [
    {
     "data": {
      "text/plain": [
       "5143"
      ]
     },
     "execution_count": 34,
     "metadata": {},
     "output_type": "execute_result"
    }
   ],
   "source": [
    "len(stdsamp3)"
   ]
  },
  {
   "cell_type": "code",
   "execution_count": 35,
   "metadata": {},
   "outputs": [],
   "source": [
    "stdpop4, stdsamp4 = stdev(5000)"
   ]
  },
  {
   "cell_type": "code",
   "execution_count": 36,
   "metadata": {},
   "outputs": [
    {
     "data": {
      "text/plain": [
       "4922"
      ]
     },
     "execution_count": 36,
     "metadata": {},
     "output_type": "execute_result"
    }
   ],
   "source": [
    "len(stdpop4)"
   ]
  },
  {
   "cell_type": "code",
   "execution_count": 37,
   "metadata": {},
   "outputs": [
    {
     "data": {
      "text/plain": [
       "5078"
      ]
     },
     "execution_count": 37,
     "metadata": {},
     "output_type": "execute_result"
    }
   ],
   "source": [
    "len(stdsamp4)"
   ]
  },
  {
   "cell_type": "code",
   "execution_count": 38,
   "metadata": {},
   "outputs": [],
   "source": [
    "import matplotlib.pyplot as plt"
   ]
  },
  {
   "cell_type": "markdown",
   "metadata": {},
   "source": [
    "<br>\n",
    "\n"
   ]
  },
  {
   "cell_type": "markdown",
   "metadata": {},
   "source": [
    "### Plotting the results\n",
    "In the bar chart below, we can compare both estimates. For each sample size, `STDEV.S` is a more accurate estimate. The smaller the sample size, the greater the difference in estimation accuracy. It has almost levelled out at a sample size of half the population. I generated this bar chart using a combination of *Matplotlib's* documentation [6] and code found at packtpub.com [7]."
   ]
  },
  {
   "cell_type": "markdown",
   "metadata": {},
   "source": [
    "<br>\n",
    "\n",
    "### Barchart"
   ]
  },
  {
   "cell_type": "code",
   "execution_count": 39,
   "metadata": {},
   "outputs": [
    {
     "data": {
      "image/png": "[encoded data removed]",
      "text/plain": [
       "<Figure size 432x288 with 1 Axes>"
      ]
     },
     "metadata": {
      "needs_background": "light"
     },
     "output_type": "display_data"
    }
   ],
   "source": [
    "# Array of values representing proximity to population standard deviation\n",
    "data = [[len(stdpop), len(stdpop2), len(stdpop3), len(stdpop4)],\n",
    "  [len(stdsamp), len(stdsamp2), len(stdsamp3), len(stdsamp4)]]\n",
    "\n",
    "# x labels\n",
    "labels = ['5', '50', '500', '5000']\n",
    "\n",
    "# Distance between each x-tick\n",
    "x = np.arange(len(labels))\n",
    "\n",
    "# Generate figure and axes\n",
    "fig, ax = plt.subplots()\n",
    "\n",
    "# Formatting of bar chart\n",
    "X = np.arange(4)\n",
    "ax.bar(X + 0.00, data[0], color = 'b', width = 0.25, label='STDEV.P')\n",
    "ax.bar(X + 0.25, data[1], color = 'g', width = 0.25, label='STDEV.S')\n",
    "ax.set_xticks(x)\n",
    "ax.set_xticklabels(labels)\n",
    "ax.set_xlabel(\"sample_size\", fontsize=16)\n",
    "ax.legend()\n",
    "\n",
    "\n",
    "\n",
    "plt.show()"
   ]
  },
  {
   "cell_type": "markdown",
   "metadata": {},
   "source": [
    "It would appear that `STDEV.S` is indeed a more accurate estimation of the population standard deviation according my algorithm \n"
   ]
  },
  {
   "cell_type": "markdown",
   "metadata": {},
   "source": [
    "<br>\n",
    "\n"
   ]
  },
  {
   "cell_type": "markdown",
   "metadata": {},
   "source": [
    "### References <br>\n",
    "\n",
    "[1] wikipedia.org; Standard deviation; https://en.wikipedia.org/wiki/Standard_deviation#Definition_of_population_values <br>\n",
    "[2] wikipedia.org; Bessel's Correction; https://en.wikipedia.org/wiki/Bessel%27s_correction <br>\n",
    "[3] BC Campus Open Textbooks; A Confidence Interval for a Population Standard Deviation Unknown, Small Sample Case; https://opentextbc.ca/introbusinessstatopenstax/chapter/a-confidence-interval-for-a-population-standard-deviation-unknown-small-sample-case/ <br>\n",
    "[4] Statquest; Why dividing by N underestimates the variance; https://www.youtube.com/watch?v=sHRBg6BhKjI <br>\n",
    "[5] Statquest; Statistics Fundamentals: The mean, variance and standard deviation; https://www.youtube.com/watch?v=SzZ6GpcfoQY <br>\n",
    "[6] matplotlib.org; Grouped bar chart with labels; https://matplotlib.org/3.1.1/gallery/lines_bars_and_markers/barchart.html <br>\n",
    "[7] packtpub.com; Plotting multiple bar charts; https://subscription.packtpub.com/book/big_data_and_business_intelligence/9781849513265/1/ch01lvl1sec16/plotting-multiple-bar-charts <br>"
   ]
  },
  {
   "cell_type": "markdown",
   "metadata": {},
   "source": [
    "<br>\n",
    "\n",
    "#### End task 3\n",
    "\n",
    "<br>\n",
    "<br>\n",
    "\n"
   ]
  },
  {
   "cell_type": "markdown",
   "metadata": {},
   "source": [
    "### Task 4 - K-means clustering\n",
    "\n",
    "***\n",
    "\n",
    "\n",
    "#### Use `scikit-learn` to  apply k-means  clustering  to Fisher’s  famous  Iris  data  set.  Explain in a Markdown cell how your code works and how accurate it might be, and then explain how your model could be used to make predictions of species of iris."
   ]
  },
  {
   "cell_type": "markdown",
   "metadata": {},
   "source": [
    "<br>\n",
    "\n"
   ]
  },
  {
   "cell_type": "markdown",
   "metadata": {},
   "source": [
    "* K-means clustering is an unsupervised machine learning clustering technique which aims to partition observations in a data set based on the nearest mean of an observation to a particular cluster [1], [2]. \n",
    "* K-means, and clustering more generally, has mnay practical uses. For example, it is used in the common business practice of *customer segmentation*, which groups potential consumers based on various traits and qualities [3].\n",
    "* It is also used in the medical world to test for patients who may respond differently to different treatment [4]. \n",
    "\n",
    "<br>\n",
    "\n",
    "* The `scikit-learn` machine learning library allows us to quickly and efficiently implement k-means clustering on a data set. \n",
    "* Behind the scenes, not seen by the user, it is an iterative process which involves a series of steps. I found well-explained information on YouTube [5], and on realpython.com [6]:\n",
    "\n",
    "    * Firstly, we identify the number ('k') of clusters we want in our data\n",
    "    * Next, *k* distinct data points are randomly selected. These are the initial clusters.\n",
    "    * Then, the first data point is selected and its distance from the k initial clusters is measured\n",
    "    * This point is assigned to the nearest of the k clusters. This is repeated with all points in the data set until each has been assigned a cluster.\n",
    "    * Next, the mean of each cluster is calculated. The distance of each data point from the mean of each cluster is measured. It is reassigned a cluster only if it is closer to the mean than its current cluster.\n",
    "    * The total variance of each cluster is calculated. The whole process is repeated again until the variance has been minimized. \n",
    "    \n",
    "    \n",
    "    "
   ]
  },
  {
   "cell_type": "markdown",
   "metadata": {},
   "source": [
    "<br>\n",
    "\n",
    "* Below, I apply k-means clustering to the Iris dataset (downloaded from uci.edu [7]). \n",
    "* First, I import `pandas` and `sklearn.cluster`. `matplotlib.pyplot` and `numpy` have been imported above. I use `pandas` to read in the iris data set and `sklearn.cluster` contains the k-means algorithm which will implement the clustering."
   ]
  },
  {
   "cell_type": "markdown",
   "metadata": {},
   "source": [
    "<br>\n",
    "\n"
   ]
  },
  {
   "cell_type": "code",
   "execution_count": 40,
   "metadata": {},
   "outputs": [],
   "source": [
    "import pandas as pd\n",
    "import sklearn.cluster as skcl"
   ]
  },
  {
   "cell_type": "markdown",
   "metadata": {},
   "source": [
    "<br>\n",
    "\n",
    "The data set does not contain column headers, so I assign these based on the accompanying data set summary from the UCI website. I then read in the file."
   ]
  },
  {
   "cell_type": "code",
   "execution_count": 51,
   "metadata": {},
   "outputs": [
    {
     "data": {
      "text/html": [
       "<div>\n",
       "<style scoped>\n",
       "    .dataframe tbody tr th:only-of-type {\n",
       "        vertical-align: middle;\n",
       "    }\n",
       "\n",
       "    .dataframe tbody tr th {\n",
       "        vertical-align: top;\n",
       "    }\n",
       "\n",
       "    .dataframe thead th {\n",
       "        text-align: right;\n",
       "    }\n",
       "</style>\n",
       "<table border=\"1\" class=\"dataframe\">\n",
       "  <thead>\n",
       "    <tr style=\"text-align: right;\">\n",
       "      <th></th>\n",
       "      <th>sepal_length</th>\n",
       "      <th>sepal_width</th>\n",
       "      <th>petal_length</th>\n",
       "      <th>petal_width</th>\n",
       "      <th>species</th>\n",
       "    </tr>\n",
       "  </thead>\n",
       "  <tbody>\n",
       "    <tr>\n",
       "      <th>0</th>\n",
       "      <td>5.1</td>\n",
       "      <td>3.5</td>\n",
       "      <td>1.4</td>\n",
       "      <td>0.2</td>\n",
       "      <td>Iris-setosa</td>\n",
       "    </tr>\n",
       "    <tr>\n",
       "      <th>1</th>\n",
       "      <td>4.9</td>\n",
       "      <td>3.0</td>\n",
       "      <td>1.4</td>\n",
       "      <td>0.2</td>\n",
       "      <td>Iris-setosa</td>\n",
       "    </tr>\n",
       "    <tr>\n",
       "      <th>2</th>\n",
       "      <td>4.7</td>\n",
       "      <td>3.2</td>\n",
       "      <td>1.3</td>\n",
       "      <td>0.2</td>\n",
       "      <td>Iris-setosa</td>\n",
       "    </tr>\n",
       "    <tr>\n",
       "      <th>3</th>\n",
       "      <td>4.6</td>\n",
       "      <td>3.1</td>\n",
       "      <td>1.5</td>\n",
       "      <td>0.2</td>\n",
       "      <td>Iris-setosa</td>\n",
       "    </tr>\n",
       "    <tr>\n",
       "      <th>4</th>\n",
       "      <td>5.0</td>\n",
       "      <td>3.6</td>\n",
       "      <td>1.4</td>\n",
       "      <td>0.2</td>\n",
       "      <td>Iris-setosa</td>\n",
       "    </tr>\n",
       "    <tr>\n",
       "      <th>5</th>\n",
       "      <td>5.4</td>\n",
       "      <td>3.9</td>\n",
       "      <td>1.7</td>\n",
       "      <td>0.4</td>\n",
       "      <td>Iris-setosa</td>\n",
       "    </tr>\n",
       "    <tr>\n",
       "      <th>6</th>\n",
       "      <td>4.6</td>\n",
       "      <td>3.4</td>\n",
       "      <td>1.4</td>\n",
       "      <td>0.3</td>\n",
       "      <td>Iris-setosa</td>\n",
       "    </tr>\n",
       "    <tr>\n",
       "      <th>7</th>\n",
       "      <td>5.0</td>\n",
       "      <td>3.4</td>\n",
       "      <td>1.5</td>\n",
       "      <td>0.2</td>\n",
       "      <td>Iris-setosa</td>\n",
       "    </tr>\n",
       "    <tr>\n",
       "      <th>8</th>\n",
       "      <td>4.4</td>\n",
       "      <td>2.9</td>\n",
       "      <td>1.4</td>\n",
       "      <td>0.2</td>\n",
       "      <td>Iris-setosa</td>\n",
       "    </tr>\n",
       "    <tr>\n",
       "      <th>9</th>\n",
       "      <td>4.9</td>\n",
       "      <td>3.1</td>\n",
       "      <td>1.5</td>\n",
       "      <td>0.1</td>\n",
       "      <td>Iris-setosa</td>\n",
       "    </tr>\n",
       "  </tbody>\n",
       "</table>\n",
       "</div>"
      ],
      "text/plain": [
       "   sepal_length  sepal_width  petal_length  petal_width      species\n",
       "0           5.1          3.5           1.4          0.2  Iris-setosa\n",
       "1           4.9          3.0           1.4          0.2  Iris-setosa\n",
       "2           4.7          3.2           1.3          0.2  Iris-setosa\n",
       "3           4.6          3.1           1.5          0.2  Iris-setosa\n",
       "4           5.0          3.6           1.4          0.2  Iris-setosa\n",
       "5           5.4          3.9           1.7          0.4  Iris-setosa\n",
       "6           4.6          3.4           1.4          0.3  Iris-setosa\n",
       "7           5.0          3.4           1.5          0.2  Iris-setosa\n",
       "8           4.4          2.9           1.4          0.2  Iris-setosa\n",
       "9           4.9          3.1           1.5          0.1  Iris-setosa"
      ]
     },
     "execution_count": 51,
     "metadata": {},
     "output_type": "execute_result"
    }
   ],
   "source": [
    "# Assign column headers to variable header_list\n",
    "header_list = [\"sepal_length\",  \"sepal_width\",  \"petal_length\", \"petal_width\", \"species\"]\n",
    "\n",
    "# Read in iris data set and assign it to variable iris_df\n",
    "iris_df = pd.read_csv(\"iris.data\", names=header_list)\n",
    "\n",
    "# Print first 10 values\n",
    "iris_df.head(10)"
   ]
  },
  {
   "cell_type": "markdown",
   "metadata": {},
   "source": []
  },
  {
   "cell_type": "markdown",
   "metadata": {},
   "source": [
    "<br>\n",
    "\n"
   ]
  },
  {
   "cell_type": "markdown",
   "metadata": {},
   "source": [
    "The code below is based on a blog entry concerning k-means clustering [8]. First of all, each of the four independent variables is assigned to the variable x as a numpy array. The model will be trained with this variable."
   ]
  },
  {
   "cell_type": "code",
   "execution_count": 53,
   "metadata": {},
   "outputs": [
    {
     "data": {
      "text/plain": [
       "numpy.ndarray"
      ]
     },
     "execution_count": 53,
     "metadata": {},
     "output_type": "execute_result"
    }
   ],
   "source": [
    "# data set features assigned as numpy array to variable x\n",
    "x = iris_df.iloc[:, [0,1,2,3]].values"
   ]
  },
  {
   "cell_type": "markdown",
   "metadata": {},
   "source": [
    "<br>\n",
    "\n"
   ]
  },
  {
   "cell_type": "markdown",
   "metadata": {},
   "source": [
    "From previous experience with the iris data set, I am aware that there are three categories to which any one of the features belong i.e. the iris species (setosa, versicolor, vergnica). Of course, this may not always be the case when implementing k-means clustering on a data set. With this in mind, I choose 5 clusters for the initial fit. "
   ]
  },
  {
   "cell_type": "code",
   "execution_count": 43,
   "metadata": {},
   "outputs": [],
   "source": [
    "# Let k = 5 clusters\n",
    "kmeans5 = skcl.KMeans(n_clusters=5)"
   ]
  },
  {
   "cell_type": "markdown",
   "metadata": {},
   "source": [
    "<br>\n",
    "\n"
   ]
  },
  {
   "cell_type": "markdown",
   "metadata": {},
   "source": [
    "I use the `fit_predict` method to compute the cluster centers and to predict the cluster index for each sample [9]. When I print the output to the screen, we can see that each sample is assigned one of five clusters (0-4)."
   ]
  },
  {
   "cell_type": "code",
   "execution_count": 44,
   "metadata": {},
   "outputs": [
    {
     "data": {
      "text/plain": [
       "array([1, 1, 1, 1, 1, 1, 1, 1, 1, 1, 1, 1, 1, 1, 1, 1, 1, 1, 1, 1, 1, 1,\n",
       "       1, 1, 1, 1, 1, 1, 1, 1, 1, 1, 1, 1, 1, 1, 1, 1, 1, 1, 1, 1, 1, 1,\n",
       "       1, 1, 1, 1, 1, 1, 0, 0, 0, 4, 0, 0, 0, 4, 0, 4, 4, 0, 4, 0, 4, 0,\n",
       "       0, 4, 0, 4, 0, 4, 0, 0, 0, 0, 0, 0, 0, 4, 4, 4, 4, 0, 4, 0, 0, 0,\n",
       "       4, 4, 4, 0, 4, 4, 4, 4, 4, 0, 4, 4, 3, 0, 2, 3, 3, 2, 4, 2, 3, 2,\n",
       "       3, 3, 3, 0, 3, 3, 3, 2, 2, 0, 3, 0, 2, 0, 3, 2, 0, 0, 3, 2, 2, 2,\n",
       "       3, 0, 0, 2, 3, 3, 0, 3, 3, 3, 0, 3, 3, 3, 0, 3, 3, 0])"
      ]
     },
     "execution_count": 44,
     "metadata": {},
     "output_type": "execute_result"
    }
   ],
   "source": [
    "# Apply the .fit_predict method to the 4 features\n",
    "y_kmeans = kmeans5.fit_predict(x)\n",
    "y_kmeans"
   ]
  },
  {
   "cell_type": "code",
   "execution_count": 45,
   "metadata": {},
   "outputs": [
    {
     "data": {
      "text/plain": [
       "array([[6.20769231, 2.85384615, 4.74615385, 1.56410256],\n",
       "       [5.006     , 3.418     , 1.464     , 0.244     ],\n",
       "       [7.475     , 3.125     , 6.3       , 2.05      ],\n",
       "       [6.52916667, 3.05833333, 5.50833333, 2.1625    ],\n",
       "       [5.508     , 2.6       , 3.908     , 1.204     ]])"
      ]
     },
     "execution_count": 45,
     "metadata": {},
     "output_type": "execute_result"
    }
   ],
   "source": [
    "kmeans5.cluster_centers_"
   ]
  },
  {
   "cell_type": "code",
   "execution_count": 46,
   "metadata": {},
   "outputs": [
    {
     "data": {
      "image/png": "[encoded data removed]",
      "text/plain": [
       "<Figure size 432x288 with 1 Axes>"
      ]
     },
     "metadata": {
      "needs_background": "light"
     },
     "output_type": "display_data"
    }
   ],
   "source": [
    "error = []\n",
    "for i in range(1, 11):\n",
    "    kmeans = skcl.KMeans(n_clusters = i).fit(x)\n",
    "    kmeans.fit(x)\n",
    "    error.append(kmeans.inertia_)\n",
    "plt.plot(range(1, 11), error)\n",
    "plt.title(\"Elbow method\")\n",
    "plt.xlabel('No of clusters')\n",
    "plt.ylabel('Error')\n",
    "plt.show()"
   ]
  },
  {
   "cell_type": "code",
   "execution_count": 47,
   "metadata": {},
   "outputs": [
    {
     "name": "stdout",
     "output_type": "stream",
     "text": [
      "[1 1 1 1 1 1 1 1 1 1 1 1 1 1 1 1 1 1 1 1 1 1 1 1 1 1 1 1 1 1 1 1 1 1 1 1 1\n",
      " 1 1 1 1 1 1 1 1 1 1 1 1 1 0 0 2 0 0 0 0 0 0 0 0 0 0 0 0 0 0 0 0 0 0 0 0 0\n",
      " 0 0 0 2 0 0 0 0 0 0 0 0 0 0 0 0 0 0 0 0 0 0 0 0 0 0 2 0 2 2 2 2 0 2 2 2 2\n",
      " 2 2 0 0 2 2 2 2 0 2 0 2 0 2 2 0 0 2 2 2 2 2 0 2 2 2 2 0 2 2 2 0 2 2 2 0 2\n",
      " 2 0]\n"
     ]
    }
   ],
   "source": [
    "kmeans3 = skcl.KMeans(n_clusters=3)\n",
    "y_kmeans3 = kmeans3.fit_predict(x)\n",
    "print(y_kmeans3)"
   ]
  },
  {
   "cell_type": "code",
   "execution_count": 48,
   "metadata": {},
   "outputs": [
    {
     "data": {
      "text/plain": [
       "array([[5.9016129 , 2.7483871 , 4.39354839, 1.43387097],\n",
       "       [5.006     , 3.418     , 1.464     , 0.244     ],\n",
       "       [6.85      , 3.07368421, 5.74210526, 2.07105263]])"
      ]
     },
     "execution_count": 48,
     "metadata": {},
     "output_type": "execute_result"
    }
   ],
   "source": [
    "kmeans3.cluster_centers_"
   ]
  },
  {
   "cell_type": "code",
   "execution_count": 49,
   "metadata": {},
   "outputs": [
    {
     "data": {
      "text/plain": [
       "<matplotlib.collections.PathCollection at 0x23505df7c10>"
      ]
     },
     "execution_count": 49,
     "metadata": {},
     "output_type": "execute_result"
    },
    {
     "data": {
      "image/png": "[encoded data removed]",
      "text/plain": [
       "<Figure size 432x288 with 1 Axes>"
      ]
     },
     "metadata": {
      "needs_background": "light"
     },
     "output_type": "display_data"
    }
   ],
   "source": [
    "plt.scatter(x[:, 0], x[:, 1], c=y_kmeans3, cmap='rainbow')"
   ]
  },
  {
   "cell_type": "code",
   "execution_count": null,
   "metadata": {},
   "outputs": [],
   "source": []
  },
  {
   "cell_type": "code",
   "execution_count": null,
   "metadata": {},
   "outputs": [],
   "source": []
  },
  {
   "cell_type": "code",
   "execution_count": null,
   "metadata": {},
   "outputs": [],
   "source": []
  },
  {
   "cell_type": "code",
   "execution_count": null,
   "metadata": {},
   "outputs": [],
   "source": []
  },
  {
   "cell_type": "code",
   "execution_count": null,
   "metadata": {},
   "outputs": [],
   "source": []
  },
  {
   "cell_type": "code",
   "execution_count": 50,
   "metadata": {},
   "outputs": [
    {
     "ename": "NameError",
     "evalue": "name 'Y' is not defined",
     "output_type": "error",
     "traceback": [
      "\u001b[1;31m---------------------------------------------------------------------------\u001b[0m",
      "\u001b[1;31mNameError\u001b[0m                                 Traceback (most recent call last)",
      "\u001b[1;32m<ipython-input-50-49312cd383bf>\u001b[0m in \u001b[0;36m<module>\u001b[1;34m\u001b[0m\n\u001b[1;32m----> 1\u001b[1;33m \u001b[0mkmeans\u001b[0m \u001b[1;33m=\u001b[0m \u001b[0mskcl\u001b[0m\u001b[1;33m.\u001b[0m\u001b[0mKMeans\u001b[0m\u001b[1;33m(\u001b[0m\u001b[0mn_clusters\u001b[0m\u001b[1;33m=\u001b[0m\u001b[1;36m2\u001b[0m\u001b[1;33m,\u001b[0m \u001b[0mrandom_state\u001b[0m\u001b[1;33m=\u001b[0m\u001b[1;36m0\u001b[0m\u001b[1;33m)\u001b[0m\u001b[1;33m.\u001b[0m\u001b[0mfit\u001b[0m\u001b[1;33m(\u001b[0m\u001b[0mY\u001b[0m\u001b[1;33m)\u001b[0m\u001b[1;33m\u001b[0m\u001b[1;33m\u001b[0m\u001b[0m\n\u001b[0m\u001b[0;32m      2\u001b[0m \u001b[0mkmeans\u001b[0m\u001b[1;33m\u001b[0m\u001b[1;33m\u001b[0m\u001b[0m\n",
      "\u001b[1;31mNameError\u001b[0m: name 'Y' is not defined"
     ]
    }
   ],
   "source": [
    "kmeans = skcl.KMeans(n_clusters=2, random_state=0).fit(Y)\n",
    "kmeans"
   ]
  },
  {
   "cell_type": "code",
   "execution_count": null,
   "metadata": {},
   "outputs": [],
   "source": [
    "kmeans.labels_"
   ]
  },
  {
   "cell_type": "code",
   "execution_count": null,
   "metadata": {},
   "outputs": [],
   "source": [
    "plt.plot(Y[kmeans.labels_ == 0][:, 1] , Y[kmeans.labels_ == 0][:, 0], 'bx')\n",
    "plt.plot(Y[kmeans.labels_ == 1][:, 1] , Y[kmeans.labels_ == 1][:, 0], 'rx')\n",
    "# plt.xlim([-2,14])\n",
    "# plt.ylim([-2,6])"
   ]
  },
  {
   "cell_type": "code",
   "execution_count": null,
   "metadata": {},
   "outputs": [],
   "source": []
  },
  {
   "cell_type": "code",
   "execution_count": null,
   "metadata": {},
   "outputs": [],
   "source": []
  },
  {
   "cell_type": "code",
   "execution_count": null,
   "metadata": {},
   "outputs": [],
   "source": [
    "# Perform kmeans fitting\n",
    "kmeans = skcl.KMeans(n_clusters=2, random_state=0).fit(X)"
   ]
  },
  {
   "cell_type": "code",
   "execution_count": null,
   "metadata": {},
   "outputs": [],
   "source": [
    "plt.plot(X[kmeans.labels_ == 0][:, 0], X[kmeans.labels_ == 0][:, 1], 'bx')\n",
    "plt.plot(X[kmeans.labels_ == 1][:, 0], X[kmeans.labels_ == 1][:, 1], 'rx')\n",
    "plt.xlim([-2,14])\n",
    "plt.ylim([-2,6])"
   ]
  },
  {
   "cell_type": "code",
   "execution_count": null,
   "metadata": {},
   "outputs": [],
   "source": [
    "kmeans.labels_"
   ]
  },
  {
   "cell_type": "code",
   "execution_count": null,
   "metadata": {},
   "outputs": [],
   "source": [
    "kmeans.predict([[0, 0], [12, 3]])\n"
   ]
  },
  {
   "cell_type": "code",
   "execution_count": null,
   "metadata": {},
   "outputs": [],
   "source": [
    "kmeans.cluster_centers_"
   ]
  },
  {
   "cell_type": "code",
   "execution_count": null,
   "metadata": {},
   "outputs": [],
   "source": [
    "# data set\n",
    "\n",
    "# Two centre points\n",
    "c1 = np.array([1.0, 2.0])\n",
    "c2 = np.array([5.0, 12.0])\n",
    "\n",
    "# create points randomly around the centre points\n",
    "c1x = np.random(c1[0], 2.0, 10)"
   ]
  },
  {
   "cell_type": "code",
   "execution_count": null,
   "metadata": {},
   "outputs": [],
   "source": []
  },
  {
   "cell_type": "code",
   "execution_count": null,
   "metadata": {},
   "outputs": [],
   "source": []
  },
  {
   "cell_type": "code",
   "execution_count": null,
   "metadata": {},
   "outputs": [],
   "source": []
  },
  {
   "cell_type": "code",
   "execution_count": null,
   "metadata": {},
   "outputs": [],
   "source": [
    "xvals = Y[0, :]\n",
    "yvals = Y[1, :]\n",
    "xvals, yvals"
   ]
  },
  {
   "cell_type": "markdown",
   "metadata": {},
   "source": [
    "<br>\n",
    "\n",
    "### References\n",
    "[1] realpython.com; K-Means Clustering in Python: A Practical Guide; https://realpython.com/k-means-clustering-python/ <br>\n",
    "[2] wikipedia.org; k-means clustering; https://en.wikipedia.org/wiki/K-means_clustering <br>\n",
    "[3] Dhiraj, K.; K-means clustering using sklearn and Python; https://heartbeat.fritz.ai/k-means-clustering-using-sklearn-and-python-4a054d67b187 <br>\n",
    "[4] realpython.com; K-Means Clustering in Python: A Practical Guide; https://realpython.com/k-means-clustering-python/ <br>\n",
    "[5] Starmer, J. (statquest); StatQuest: K-means clustering; https://www.youtube.com/watch?v=4b5d3muPQmA <br>\n",
    "[6] realpython.com; K-Means Clustering in Python: A Practical Guide; https://realpython.com/k-means-clustering-python/ <br>\n",
    "[7] UCI Machine learning repository; Irish dataset; https://archive.ics.uci.edu/ml/datasets/iris <br>\n",
    "[8] Dhiraj, K.; K-means clustering using sklearn and Python; https://heartbeat.fritz.ai/k-means-clustering-using-sklearn-and-python-4a054d67b187 <br>\n",
    "[9] sklearn.org; KMeans; https://scikit-learn.org/stable/modules/generated/sklearn.cluster.KMeans.html <br>"
   ]
  },
  {
   "cell_type": "code",
   "execution_count": null,
   "metadata": {},
   "outputs": [],
   "source": []
  }
 ],
 "metadata": {
  "kernelspec": {
   "display_name": "Python 3",
   "language": "python",
   "name": "python3"
  },
  "language_info": {
   "codemirror_mode": {
    "name": "ipython",
    "version": 3
   },
   "file_extension": ".py",
   "mimetype": "text/x-python",
   "name": "python",
   "nbconvert_exporter": "python",
   "pygments_lexer": "ipython3",
   "version": "3.8.3"
  }
 },
 "nbformat": 4,
 "nbformat_minor": 4
}
