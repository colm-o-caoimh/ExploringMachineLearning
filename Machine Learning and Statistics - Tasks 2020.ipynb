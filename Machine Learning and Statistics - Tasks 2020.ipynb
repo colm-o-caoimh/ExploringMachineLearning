{
 "cells": [
  {
   "cell_type": "markdown",
   "metadata": {},
   "source": [
    "# Machine Learning and Statistics - Tasks 2020\n",
    "***\n",
    "### Task 1 \n",
    "#### Write a Python function called `sqrt2` that calculates and prints to the screen the square root of 2 to 100 decimal places\n",
    "\n",
    "* This program uses Newton's method (also known as the Newton-Raphson method) to calculate the square root of 2. It is commonly expressed as: \n",
    "<br>\n",
    "\n",
    "$$ z = z - \\frac{z^2 - x}{2z}$$\n",
    "\n",
    "* The task requires that the function prints the result to 100 decimal places without using any modules from the standard library. \n",
    "* Python, however, stores floating point numbers correctly only to around 16 or 17 digits [1]. This is due to space limitations when storing these numbers in binary on the machine. \n",
    "* The square root of 2 is an *irrational number* and so it has an infinite number of decimals. Currently, the is has been computed to at least 10 trillion digits [2]. This exemplifies why floating point numbers in Python cannot have arbitrary precision. \n",
    "* In order to print such an irrational number to 100 decimal places, a different approach is needed. \n",
    "* The correct output could be displayed as a string, which would bypass the need to use a floating point number. Additionally it may be noted that integers in Python have arbitrary precision [3]. A combination of these two approaches may indeed be the route to completing this task to satisfaction.\n",
    "\n",
    "\n",
    "\n"
   ]
  },
  {
   "cell_type": "markdown",
   "metadata": {},
   "source": [
    "<br>"
   ]
  },
  {
   "cell_type": "markdown",
   "metadata": {},
   "source": [
    "<br>\n",
    "\n"
   ]
  },
  {
   "cell_type": "markdown",
   "metadata": {},
   "source": [
    "The function below calculates the square root of two using Newton's method and returns the result. The code here is based on a function found at hackernoon.com [4]"
   ]
  },
  {
   "cell_type": "code",
   "execution_count": 1,
   "metadata": {},
   "outputs": [],
   "source": [
    "def sqrt2():\n",
    "    \n",
    "    \"\"\"\n",
    "    This function calculates the square root of 2 using Newton's method\n",
    "    \"\"\"\n",
    "    \n",
    "    # Let the initial guess r be equal to 2 \n",
    "    r = 2\n",
    "    # The tolerance variable is set to a sufficiently low number for increased accuracy of returned value \n",
    "    tolerance = 10 ** (-10)\n",
    "   \n",
    "    # Loop until we reach desired accuracy\n",
    "    while abs(2 - r * r) > tolerance:\n",
    "        # Newton's method\n",
    "        r = (r + 2 / r) / 2\n",
    "        \n",
    "    return r"
   ]
  },
  {
   "cell_type": "code",
   "execution_count": 2,
   "metadata": {},
   "outputs": [
    {
     "data": {
      "text/plain": [
       "1.4142135623746899"
      ]
     },
     "execution_count": 2,
     "metadata": {},
     "output_type": "execute_result"
    }
   ],
   "source": [
    "# call function\n",
    "sqrt2()"
   ]
  },
  {
   "cell_type": "markdown",
   "metadata": {},
   "source": [
    "<br>\n",
    "\n"
   ]
  },
  {
   "cell_type": "markdown",
   "metadata": {},
   "source": [
    "We see here that the length of the value returned by the function is 18 characters (i.e. 16 decimal places). This is clearly insufficient for the task at hand"
   ]
  },
  {
   "cell_type": "code",
   "execution_count": 3,
   "metadata": {},
   "outputs": [
    {
     "data": {
      "text/plain": [
       "18"
      ]
     },
     "execution_count": 3,
     "metadata": {},
     "output_type": "execute_result"
    }
   ],
   "source": [
    "# print length of value returned\n",
    "sqrt = sqrt2()\n",
    "len(str(sqrt))"
   ]
  },
  {
   "cell_type": "markdown",
   "metadata": {},
   "source": [
    "<br>\n",
    "\n"
   ]
  },
  {
   "cell_type": "markdown",
   "metadata": {},
   "source": [
    "When looking for a solution to this task, I discoverd that the square root of 200, 20,000 and so on contains the same digits as the square root of two. The only change can be seen in the position of the decimal point. Below, I use a general function that outputs the square root of the number passed. I pass 2x10^200, which should yield the desired result. However, this is output in scientific notation and thus still not printing the desired result:"
   ]
  },
  {
   "cell_type": "code",
   "execution_count": 51,
   "metadata": {},
   "outputs": [],
   "source": [
    "def mySqrt(x):\n",
    "\n",
    "    \"\"\"\n",
    "    This function calculates the square root of a number passed as argument\n",
    "    \"\"\"\n",
    "    \n",
    "    r = x\n",
    "    precision = 10 ** (-10)\n",
    "    \n",
    "    while abs(x - r * r) > precision:\n",
    "        r = (r + x / r) / 2\n",
    "        \n",
    "    return r"
   ]
  },
  {
   "cell_type": "code",
   "execution_count": 56,
   "metadata": {},
   "outputs": [],
   "source": [
    "# 2 followed by 200 zeros\n",
    "b = 2*10**200"
   ]
  },
  {
   "cell_type": "code",
   "execution_count": 54,
   "metadata": {},
   "outputs": [
    {
     "name": "stdout",
     "output_type": "stream",
     "text": [
      "1.414213562373095e+100\n"
     ]
    }
   ],
   "source": [
    "# call function with this number\n",
    "y = mySqrt(b)\n",
    "print(y)"
   ]
  },
  {
   "cell_type": "markdown",
   "metadata": {},
   "source": [
    "<br>\n",
    "\n"
   ]
  },
  {
   "cell_type": "markdown",
   "metadata": {},
   "source": [
    "Below, I copy and pasted the square root of 2x10^20 and investigate what possibilites that might offer in arriving at a solution to the task. However, even importing an external library and passing the value of this number squared to the `sqrt()` function, the output is still represented as a floating point number with scientific notation:"
   ]
  },
  {
   "cell_type": "code",
   "execution_count": 64,
   "metadata": {},
   "outputs": [],
   "source": [
    "# the square root of 2*10**20 copy and pasted\n",
    "s = 14142135623730950488016887242096980785696718753769480731766797379907324784621070388503875343276415727350138462309122970249"
   ]
  },
  {
   "cell_type": "code",
   "execution_count": 65,
   "metadata": {},
   "outputs": [
    {
     "data": {
      "text/plain": [
       "199999999999999999999999999999999999999999999999999999999999999999999999999999999999999999999999999999999999999999999999992975302596006355342186646421860807470442275980493427789921836378022112490027674893060932709750538885270244811564139122001"
      ]
     },
     "execution_count": 65,
     "metadata": {},
     "output_type": "execute_result"
    }
   ],
   "source": [
    "s**2"
   ]
  },
  {
   "cell_type": "code",
   "execution_count": 66,
   "metadata": {},
   "outputs": [],
   "source": [
    "a = s**2"
   ]
  },
  {
   "cell_type": "code",
   "execution_count": 68,
   "metadata": {},
   "outputs": [],
   "source": [
    "# Import math module for investigation\n",
    "import math"
   ]
  },
  {
   "cell_type": "code",
   "execution_count": 69,
   "metadata": {},
   "outputs": [
    {
     "data": {
      "text/plain": [
       "1.4142135623730951e+121"
      ]
     },
     "execution_count": 69,
     "metadata": {},
     "output_type": "execute_result"
    }
   ],
   "source": [
    "math.sqrt(a)"
   ]
  },
  {
   "cell_type": "markdown",
   "metadata": {},
   "source": [
    "<br>\n",
    "\n"
   ]
  },
  {
   "cell_type": "markdown",
   "metadata": {},
   "source": [
    "Here I include a few more slightly altered versions of the above but the results remain the same:"
   ]
  },
  {
   "cell_type": "code",
   "execution_count": 70,
   "metadata": {},
   "outputs": [
    {
     "data": {
      "text/plain": [
       "200000000000000000000000000000000000000000000000000000000000000000000000000000000000000000000000000000000000000000000000000000000000000000000000000000000000000000000000000000000000000000000000000000000"
      ]
     },
     "execution_count": 70,
     "metadata": {},
     "output_type": "execute_result"
    }
   ],
   "source": [
    "b"
   ]
  },
  {
   "cell_type": "code",
   "execution_count": 71,
   "metadata": {},
   "outputs": [
    {
     "data": {
      "text/plain": [
       "201"
      ]
     },
     "execution_count": 71,
     "metadata": {},
     "output_type": "execute_result"
    }
   ],
   "source": [
    "len(str(b))"
   ]
  },
  {
   "cell_type": "code",
   "execution_count": 14,
   "metadata": {},
   "outputs": [
    {
     "data": {
      "text/plain": [
       "1.414213562373095e+100"
      ]
     },
     "execution_count": 14,
     "metadata": {},
     "output_type": "execute_result"
    }
   ],
   "source": [
    "math.sqrt(b)"
   ]
  },
  {
   "cell_type": "markdown",
   "metadata": {},
   "source": [
    "<br>\n",
    "\n"
   ]
  },
  {
   "cell_type": "markdown",
   "metadata": {},
   "source": [
    "Speaking with fellow classmates, I found a solution to the problem via a contribution by a user on stackoverflow.com [5]. This is a response to a question posed by a classmate:"
   ]
  },
  {
   "cell_type": "code",
   "execution_count": 73,
   "metadata": {},
   "outputs": [
    {
     "name": "stdout",
     "output_type": "stream",
     "text": [
      "1.4142135623730950488016887242096980785696718753769480731766797379907324784621070388503875343276415727\n"
     ]
    }
   ],
   "source": [
    "x = 2 * 10 ** 200\n",
    "\n",
    "r = x\n",
    "\n",
    "def test_diffs(x, r):\n",
    "    d0 = abs(x - r**2)\n",
    "    dm = abs(x - (r-1)**2)\n",
    "    dp = abs(x - (r+1)**2)\n",
    "    minimised = d0 <= dm and d0 <= dp\n",
    "    below_min = dp < dm\n",
    "    return minimised, below_min\n",
    "\n",
    "while True:\n",
    "    oldr = r\n",
    "    r = (r + x // r) // 2\n",
    "\n",
    "    minimised, below_min = test_diffs(x, r)\n",
    "    if minimised:\n",
    "        break\n",
    "\n",
    "    if r == oldr:\n",
    "        if below_min:\n",
    "            r += 1\n",
    "        else:\n",
    "            r -= 1\n",
    "        minimised, _ = test_diffs(x, r)\n",
    "        if minimised:\n",
    "            break\n",
    "\n",
    "print(f'{r // 10**100}.{r % 10**100:0100d}')\n"
   ]
  },
  {
   "cell_type": "markdown",
   "metadata": {},
   "source": [
    "This does indeed print the square root of 2 to the screen. However, I must be clear that this is not my own work and it will take me some time to reverse engineer the function to fully understand how it works"
   ]
  },
  {
   "cell_type": "markdown",
   "metadata": {},
   "source": [
    "### References\n",
    "\n",
    "[1] luc.edu; Decimals, Floats and Floating Point Arithmetic; http://anh.cs.luc.edu/python/hands-on/3.1/handsonHtml/float.html <br>\n",
    "[2] byjus.net; Square root of 2; https://byjus.com/maths/square-root-of-2/ <br>\n",
    "[3] mortada.net; Can Integer Operations Overflow in Python?; https://mortada.net/can-integer-operations-overflow-in-python.html <br> \n",
    "[4] Regmi, S; Calculating the Square Root of a Number using the  Newton-Raphson Method (A How To Guide); https://hackernoon.com/calculating-the-square-root-of-a-number-using-the-newton-raphson-method-a-how-to-guide-yr4e32zo <br>\n",
    "[5] stackoverflow.com; https://stackoverflow.com/questions/64278117/is-there-a-way-to-create-more-decimal-points-on-python-without-importing-a-libra <br>\n"
   ]
  },
  {
   "cell_type": "markdown",
   "metadata": {},
   "source": [
    "<br>\n",
    "\n"
   ]
  },
  {
   "cell_type": "markdown",
   "metadata": {},
   "source": [
    "#### End task 1"
   ]
  },
  {
   "cell_type": "markdown",
   "metadata": {},
   "source": [
    "<br>\n",
    "\n",
    "***\n"
   ]
  },
  {
   "cell_type": "markdown",
   "metadata": {},
   "source": [
    "### Task 2 - Chi-squared test\n",
    "#### This task uses `scipy.stats` to verify a known Chi-squared value of 24.6 based on the table below. It also calculates the p-value. The table is taken from the Wikipedia article on the Chi-squared test [1].\n",
    "\n",
    "| \t        | A | B | C | D | total|\n",
    ":-----------|:---:|:---:|:---:|:---:|:------:|\n",
    "White collar| 90| 60|104| 95|349   |\n",
    "Blue collar | 30| 50| 51| 20|151   |\n",
    "No collar   | 30| 40| 45| 35|150   |\n",
    "**Total**       |**150**|**150**|**200**|**150**|**650**   |\n",
    "\n",
    "\n",
    "#### The Chi-squared formula below is integrated into the `chi2_contingency()` function used for the task:\n",
    "\n",
    "\n",
    "$$ \\chi^2 = \\Sigma \\frac{(O_i - E_i)^2}{E_i} $$\n",
    "\n",
    "\n",
    "\n",
    "* Each column A, B, C and D represents a neighbourhood in a city with a population of 1,000,000. A random sample of 650 is taken and their occupation recorded as either White Collar, Blue Collar or No Collar.\n",
    "* The null hypothesis is that each person's occupation classification is independent of the neighbourhood they live in\n",
    "* Using the `chi2_contingency()` function, the Chi-squared value of 24.5712 is calculated. This verifies the the value provided by Wikipedia.\n",
    "* The p-value is approximately 0.0004. Since this is less than the conventionally accepted significance level of 0.05 [2] we reject the null hypothesis: \"For a Chi-square test, a p-value that is less than or equal to your significance level indicates there is sufficient evidence to conclude that the observed distribution is not the same as the expected distribution.\" [3]\n",
    "* We can therefore accept the alternative hypothesis - that there *is* a relationship between occupation and neighbourhood in the city\n",
    "\n",
    "\n",
    "\n",
    "\n",
    "\n"
   ]
  },
  {
   "cell_type": "markdown",
   "metadata": {},
   "source": [
    "<br>\n",
    "\n"
   ]
  },
  {
   "cell_type": "code",
   "execution_count": 26,
   "metadata": {},
   "outputs": [],
   "source": [
    "# Import chi2_contingency function from the scipy.stats module\n",
    "from scipy.stats import chi2_contingency\n",
    "# Import numpy to generate array representing table values\n",
    "import numpy as np"
   ]
  },
  {
   "cell_type": "code",
   "execution_count": 27,
   "metadata": {},
   "outputs": [],
   "source": [
    "# Assign 3x4 array of observed values to variable obs\n",
    "obs = np.array([[90, 60, 104, 95], [30, 50, 51, 20], [30, 40, 45, 35]])"
   ]
  },
  {
   "cell_type": "code",
   "execution_count": 28,
   "metadata": {},
   "outputs": [],
   "source": [
    "# Use chi2_contingency function to generate Chi-squared value, p-value, \n",
    "# degrees of freedom and array of expected frequencies\n",
    "chi2, p, dof, ex = chi2_contingency(obs, correction=False)"
   ]
  },
  {
   "cell_type": "code",
   "execution_count": 29,
   "metadata": {},
   "outputs": [
    {
     "data": {
      "text/plain": [
       "0.0004098425861096696"
      ]
     },
     "execution_count": 29,
     "metadata": {},
     "output_type": "execute_result"
    }
   ],
   "source": [
    "# p-value\n",
    "p"
   ]
  },
  {
   "cell_type": "code",
   "execution_count": 30,
   "metadata": {},
   "outputs": [
    {
     "data": {
      "text/plain": [
       "24.5712028585826"
      ]
     },
     "execution_count": 30,
     "metadata": {},
     "output_type": "execute_result"
    }
   ],
   "source": [
    "# Chi-squared value\n",
    "chi2"
   ]
  },
  {
   "cell_type": "code",
   "execution_count": 31,
   "metadata": {},
   "outputs": [
    {
     "data": {
      "text/plain": [
       "6"
      ]
     },
     "execution_count": 31,
     "metadata": {},
     "output_type": "execute_result"
    }
   ],
   "source": [
    "# Degrees of freedom\n",
    "dof"
   ]
  },
  {
   "cell_type": "code",
   "execution_count": 32,
   "metadata": {},
   "outputs": [
    {
     "data": {
      "text/plain": [
       "array([[ 80.53846154,  80.53846154, 107.38461538,  80.53846154],\n",
       "       [ 34.84615385,  34.84615385,  46.46153846,  34.84615385],\n",
       "       [ 34.61538462,  34.61538462,  46.15384615,  34.61538462]])"
      ]
     },
     "execution_count": 32,
     "metadata": {},
     "output_type": "execute_result"
    }
   ],
   "source": [
    "# Array of expected value\n",
    "ex"
   ]
  },
  {
   "cell_type": "markdown",
   "metadata": {},
   "source": [
    "<br>\n",
    "\n"
   ]
  },
  {
   "cell_type": "markdown",
   "metadata": {},
   "source": [
    "### References\n",
    "[1] Wikipedia; Chi-squared test; https://en.wikipedia.org/wiki/Chi-squared_test <br>\n",
    "[2] Eck, David and Ryan, Jim; The Chi Square Statistic; https://math.hws.edu/javamath/ryan/ChiSquare.html <br>\n",
    "[3] Frost, Jim; Chi-Square Test of Independence and an Example; https://statisticsbyjim.com/hypothesis-testing/chi-square-test-independence-example/ "
   ]
  },
  {
   "cell_type": "markdown",
   "metadata": {},
   "source": [
    "<br>\n",
    "\n",
    "#### End task 2"
   ]
  },
  {
   "cell_type": "markdown",
   "metadata": {},
   "source": [
    "<br>\n",
    "\n"
   ]
  },
  {
   "cell_type": "markdown",
   "metadata": {},
   "source": [
    "### Task 3 - Standard Deviation\n",
    "***\n",
    "\n",
    "#### Research the Microsoft Excel functions `STDEV.S` and `STDEV.P`, writing a note about the difference between them. Then use numpy to perform a simulation demonstrating that  the`STDEV.S` calculation is a better estimate than `STDEV.P` for the standard deviation of a population when performed on a sample."
   ]
  },
  {
   "cell_type": "markdown",
   "metadata": {},
   "source": [
    "<br>\n",
    "\n",
    "### STDEV.S vs STDEV.P\n",
    "\n",
    "\n",
    "* Both `STDEV.S` and `STDEV.P`, calculate the standard deviation of an array of numbers. The difference between them is better understood when we examine what lies in the nature of what these numbers (or data) represent. \n",
    "* If the data represents a *population*, `STDEV.P` is used, commonly expressed as: \n",
    "<br>\n",
    "\n",
    "$$\\sigma = \\sqrt{\\frac{\\Sigma(x_i - \\mu)}{n}} $$\n",
    "\n",
    "\n",
    "while `STDEV.S` is used on a *sample* of the population [1]:\n",
    "<br>\n",
    "\n",
    "$$s = \\sqrt{\\frac{\\Sigma(x_i - \\mu)}{n - 1}} $$\n",
    "\n",
    "* It is important to make a distinction between the *calculation* and the *estimation* of the population standard deviation. If we don't have the population data to work with, we can only estimate the population standard deviation and it is the formula for `STDEV.S` we use in this case. Becuase we rarely have all available to data to calculate the population mean we will almost always need to estimate it [2].\n",
    "* The smaller the sample size, the g\n",
    "* I came across 2 YouTube tutorials produced by North Carolina State University which were very informative with regard to the explanation of the difference between both formulas [3], [4].\n",
    "\n",
    "\n",
    "### Simulation\n",
    "\n",
    "* In the function below, I generate a sample which estimates the standard deviation of the population using both `STDEV.S` and `STDEV.P`.\n",
    "* First, the population is generated using the `random.normal` function, with mean = 20 and standard deviation = 10.\n",
    "* \n",
    "\n",
    "##### calculate average of each list and store results in dictionary\n",
    "\n",
    "\n",
    "\n",
    "\n",
    "<br>"
   ]
  },
  {
   "cell_type": "markdown",
   "metadata": {},
   "source": [
    "### References <br>\n",
    "\n",
    "[1] Wikipedia; Standard deviation; https://en.wikipedia.org/wiki/Standard_deviation#Definition_of_population_values <br>\n",
    "[2] BC Campus Open Textbooks; A Confidence Interval for a Population Standard Deviation Unknown, Small Sample Case; https://opentextbc.ca/introbusinessstatopenstax/chapter/a-confidence-interval-for-a-population-standard-deviation-unknown-small-sample-case/ <br>\n",
    "[3] Statquest; Why dividing by N underestimates the variance; https://www.youtube.com/watch?v=sHRBg6BhKjI <br>\n",
    "[4] Statquest; Statistics Fundamentals: The mean, variance and standard deviation; https://www.youtube.com/watch?v=SzZ6GpcfoQY <br>"
   ]
  },
  {
   "cell_type": "code",
   "execution_count": 74,
   "metadata": {},
   "outputs": [],
   "source": [
    "# import numpy to perform simulation\n",
    "import numpy as np\n"
   ]
  },
  {
   "cell_type": "code",
   "execution_count": 75,
   "metadata": {},
   "outputs": [],
   "source": [
    "# Construct a new generator object\n",
    "rng = np.random.default_rng()"
   ]
  },
  {
   "cell_type": "code",
   "execution_count": 76,
   "metadata": {},
   "outputs": [],
   "source": [
    "# generate an array of 100,000 random positive floating point numbers, normally distributed.\n",
    "# standard deviation = 10\n",
    "# mean = 20\n",
    "mu = 20 \n",
    "sigma = 10 \n",
    "population = np.random.default_rng().normal(mu, sigma, 100000)"
   ]
  },
  {
   "cell_type": "code",
   "execution_count": 77,
   "metadata": {},
   "outputs": [
    {
     "data": {
      "text/plain": [
       "19.989437388380516"
      ]
     },
     "execution_count": 77,
     "metadata": {},
     "output_type": "execute_result"
    }
   ],
   "source": [
    "np.mean(population)"
   ]
  },
  {
   "cell_type": "code",
   "execution_count": 78,
   "metadata": {},
   "outputs": [],
   "source": [
    "x = np.random.choice(population, 5000)"
   ]
  },
  {
   "cell_type": "code",
   "execution_count": 79,
   "metadata": {},
   "outputs": [
    {
     "name": "stdout",
     "output_type": "stream",
     "text": [
      "20.13949524865743\n"
     ]
    }
   ],
   "source": [
    "# estimated population mean (x-bar)\n",
    "x_bar = sum(x)/len(x)\n",
    "print(x_bar)"
   ]
  },
  {
   "cell_type": "code",
   "execution_count": 80,
   "metadata": {},
   "outputs": [
    {
     "data": {
      "text/plain": [
       "20.139495248657447"
      ]
     },
     "execution_count": 80,
     "metadata": {},
     "output_type": "execute_result"
    }
   ],
   "source": [
    "np.mean(x)"
   ]
  },
  {
   "cell_type": "code",
   "execution_count": 81,
   "metadata": {},
   "outputs": [],
   "source": [
    "std_pop = np.sqrt(np.sum((x - np.mean(x))**2)/len(x))"
   ]
  },
  {
   "cell_type": "code",
   "execution_count": 82,
   "metadata": {},
   "outputs": [
    {
     "data": {
      "text/plain": [
       "9.993752684039054"
      ]
     },
     "execution_count": 82,
     "metadata": {},
     "output_type": "execute_result"
    }
   ],
   "source": [
    "std_pop"
   ]
  },
  {
   "cell_type": "code",
   "execution_count": 83,
   "metadata": {},
   "outputs": [],
   "source": [
    "std_p = np.sqrt(np.sum((x - np.mean(x))**2)/len(x))"
   ]
  },
  {
   "cell_type": "code",
   "execution_count": 84,
   "metadata": {},
   "outputs": [],
   "source": [
    "std_s = np.sqrt(np.sum((x - np.mean(x))**2)/len(x) - 1)"
   ]
  },
  {
   "cell_type": "code",
   "execution_count": 98,
   "metadata": {},
   "outputs": [],
   "source": [
    "def stdev():\n",
    "    stdpop_list = []\n",
    "    stdsamp_list = []\n",
    "    for i in range(10000):\n",
    "        population = np.random.default_rng().normal(mu, sigma, 10000)\n",
    "        sample = np.random.choice(population, 5)\n",
    "        std_pop = np.sqrt(np.sum((sample - np.mean(sample))**2)/len(sample))\n",
    "        std_samp = np.sqrt(np.sum((sample - np.mean(sample))**2)/(len(sample) -1))\n",
    "        sigma2 = np.std(population)\n",
    "        diff_pop = abs(sigma2 - std_pop)\n",
    "        diff_samp = abs(sigma2 - std_samp)\n",
    "        if diff_pop < diff_samp:\n",
    "            stdpop_list.append(diff_pop)\n",
    "        else:\n",
    "            stdsamp_list.append(\"false\")\n",
    "#         print(\"diff pop: \", diff_pop)\n",
    "#         print(\"diff samp: \", diff_samp)\n",
    "#         stdpop_list.append(std_pop)\n",
    "#         stdsamp_list.append(std_samp)\n",
    "    return stdpop_list, stdsamp_list"
   ]
  },
  {
   "cell_type": "code",
   "execution_count": 99,
   "metadata": {},
   "outputs": [],
   "source": [
    "stdpop, stdsamp = stdev()"
   ]
  },
  {
   "cell_type": "code",
   "execution_count": 100,
   "metadata": {},
   "outputs": [
    {
     "data": {
      "text/plain": [
       "3503"
      ]
     },
     "execution_count": 100,
     "metadata": {},
     "output_type": "execute_result"
    }
   ],
   "source": [
    "len(stdpop)"
   ]
  },
  {
   "cell_type": "code",
   "execution_count": 88,
   "metadata": {},
   "outputs": [
    {
     "data": {
      "text/plain": [
       "6554"
      ]
     },
     "execution_count": 88,
     "metadata": {},
     "output_type": "execute_result"
    }
   ],
   "source": [
    "len(stdsamp)"
   ]
  },
  {
   "cell_type": "code",
   "execution_count": 89,
   "metadata": {},
   "outputs": [],
   "source": [
    "def std_difference(std_pop, std_samp, sigma):\n",
    "    ave_std_pop = np.mean(std_pop)\n",
    "    ave_std_samp = np.mean(std_samp)\n",
    "    pop = abs(sigma - ave_std_pop)\n",
    "    samp = abs(sigma - ave_std_samp)\n",
    "    if pop < samp:\n",
    "        print(\"True\")\n",
    "    else:\n",
    "        print (\"False\")"
   ]
  },
  {
   "cell_type": "code",
   "execution_count": null,
   "metadata": {},
   "outputs": [],
   "source": []
  },
  {
   "cell_type": "code",
   "execution_count": 90,
   "metadata": {},
   "outputs": [
    {
     "ename": "NameError",
     "evalue": "name 'std_samp' is not defined",
     "output_type": "error",
     "traceback": [
      "\u001b[1;31m---------------------------------------------------------------------------\u001b[0m",
      "\u001b[1;31mNameError\u001b[0m                                 Traceback (most recent call last)",
      "\u001b[1;32m<ipython-input-90-639519e39288>\u001b[0m in \u001b[0;36m<module>\u001b[1;34m\u001b[0m\n\u001b[1;32m----> 1\u001b[1;33m \u001b[0mstd_difference\u001b[0m\u001b[1;33m(\u001b[0m\u001b[0mstd_pop\u001b[0m\u001b[1;33m,\u001b[0m \u001b[0mstd_samp\u001b[0m\u001b[1;33m,\u001b[0m \u001b[0msigma\u001b[0m\u001b[1;33m)\u001b[0m\u001b[1;33m\u001b[0m\u001b[1;33m\u001b[0m\u001b[0m\n\u001b[0m",
      "\u001b[1;31mNameError\u001b[0m: name 'std_samp' is not defined"
     ]
    }
   ],
   "source": [
    "std_difference(std_pop, std_samp, sigma)"
   ]
  },
  {
   "cell_type": "code",
   "execution_count": null,
   "metadata": {},
   "outputs": [],
   "source": [
    "len(std_list)"
   ]
  },
  {
   "cell_type": "code",
   "execution_count": null,
   "metadata": {},
   "outputs": [],
   "source": [
    "len(std2_list)"
   ]
  },
  {
   "cell_type": "code",
   "execution_count": null,
   "metadata": {},
   "outputs": [],
   "source": [
    "print(sigma2)"
   ]
  },
  {
   "cell_type": "code",
   "execution_count": null,
   "metadata": {},
   "outputs": [],
   "source": [
    "result1 = sum(std_list)/len(std_list)"
   ]
  },
  {
   "cell_type": "code",
   "execution_count": null,
   "metadata": {},
   "outputs": [],
   "source": [
    "result2 = sum(std2_list)/len(std2_list)"
   ]
  },
  {
   "cell_type": "code",
   "execution_count": null,
   "metadata": {},
   "outputs": [],
   "source": [
    "result1"
   ]
  },
  {
   "cell_type": "code",
   "execution_count": null,
   "metadata": {},
   "outputs": [],
   "source": [
    "result2"
   ]
  },
  {
   "cell_type": "code",
   "execution_count": null,
   "metadata": {},
   "outputs": [],
   "source": [
    "pop = abs(sigma2 - result1)"
   ]
  },
  {
   "cell_type": "code",
   "execution_count": null,
   "metadata": {},
   "outputs": [],
   "source": [
    "sample = abs(sigma2 - result2)"
   ]
  },
  {
   "cell_type": "code",
   "execution_count": null,
   "metadata": {},
   "outputs": [],
   "source": [
    "pop"
   ]
  },
  {
   "cell_type": "code",
   "execution_count": null,
   "metadata": {},
   "outputs": [],
   "source": [
    "sample"
   ]
  },
  {
   "cell_type": "code",
   "execution_count": null,
   "metadata": {},
   "outputs": [],
   "source": []
  },
  {
   "cell_type": "code",
   "execution_count": null,
   "metadata": {},
   "outputs": [],
   "source": []
  },
  {
   "cell_type": "code",
   "execution_count": null,
   "metadata": {},
   "outputs": [],
   "source": []
  },
  {
   "cell_type": "code",
   "execution_count": null,
   "metadata": {},
   "outputs": [],
   "source": []
  },
  {
   "cell_type": "code",
   "execution_count": null,
   "metadata": {},
   "outputs": [],
   "source": []
  },
  {
   "cell_type": "code",
   "execution_count": null,
   "metadata": {},
   "outputs": [],
   "source": []
  },
  {
   "cell_type": "code",
   "execution_count": 50,
   "metadata": {},
   "outputs": [
    {
     "name": "stdout",
     "output_type": "stream",
     "text": [
      "1.4142135623730950488016887242096980785696718753769480731766797379907324784621070388503875343276415727\n"
     ]
    }
   ],
   "source": []
  },
  {
   "cell_type": "code",
   "execution_count": null,
   "metadata": {},
   "outputs": [],
   "source": []
  },
  {
   "cell_type": "code",
   "execution_count": null,
   "metadata": {},
   "outputs": [],
   "source": []
  },
  {
   "cell_type": "code",
   "execution_count": null,
   "metadata": {},
   "outputs": [],
   "source": []
  },
  {
   "cell_type": "code",
   "execution_count": null,
   "metadata": {},
   "outputs": [],
   "source": []
  },
  {
   "cell_type": "code",
   "execution_count": null,
   "metadata": {},
   "outputs": [],
   "source": []
  }
 ],
 "metadata": {
  "kernelspec": {
   "display_name": "Python 3",
   "language": "python",
   "name": "python3"
  },
  "language_info": {
   "codemirror_mode": {
    "name": "ipython",
    "version": 3
   },
   "file_extension": ".py",
   "mimetype": "text/x-python",
   "name": "python",
   "nbconvert_exporter": "python",
   "pygments_lexer": "ipython3",
   "version": "3.8.3"
  }
 },
 "nbformat": 4,
 "nbformat_minor": 4
}
